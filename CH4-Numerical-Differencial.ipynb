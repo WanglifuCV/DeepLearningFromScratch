{
 "cells": [
  {
   "cell_type": "markdown",
   "metadata": {},
   "source": [
    "# This notebook is used to implement numerical differenciation"
   ]
  },
  {
   "cell_type": "code",
   "execution_count": 1,
   "metadata": {},
   "outputs": [],
   "source": [
    "import numpy as np"
   ]
  },
  {
   "cell_type": "code",
   "execution_count": 2,
   "metadata": {},
   "outputs": [],
   "source": [
    "def f(x):\n",
    "    # x: ndarray obj\n",
    "    # y is a scaler, and is the output.\n",
    "    x = np.array(x)\n",
    "    y = np.sum(x ** 2) / 2\n",
    "    return y"
   ]
  },
  {
   "cell_type": "markdown",
   "metadata": {},
   "source": [
    "In this notebook, we are going to compute the numerical differencation of the functon $f(x) = 0.5\\cdot(x^2_1 + x^2_2 + x^2_3)$"
   ]
  },
  {
   "cell_type": "code",
   "execution_count": 3,
   "metadata": {},
   "outputs": [],
   "source": [
    "x = range(3)"
   ]
  },
  {
   "cell_type": "code",
   "execution_count": 4,
   "metadata": {
    "scrolled": true
   },
   "outputs": [
    {
     "name": "stdout",
     "output_type": "stream",
     "text": [
      "2.5\n"
     ]
    }
   ],
   "source": [
    "print(f(x))"
   ]
  },
  {
   "cell_type": "markdown",
   "metadata": {},
   "source": [
    "## Compute numerically "
   ]
  },
  {
   "cell_type": "code",
   "execution_count": 5,
   "metadata": {},
   "outputs": [],
   "source": [
    "def df_numerical1(func, h, x0):\n",
    "    # func: function name;\n",
    "    # val_num: number of inputs of func;\n",
    "    # h;\n",
    "    # x0: 1-d ndarray obj\n",
    "    # dy: gradient, 1-dim ndarray obj;\n",
    "    x0 = np.array(x0)\n",
    "    dy = np.zeros(x0.shape)\n",
    "    for n in range(x0.size):\n",
    "        # If I use x = np.copy, entry of \n",
    "        dx = np.zeros(x0.shape)\n",
    "        dx[n] += h\n",
    "        x = x0 + dx\n",
    "        dy[n] = (func(x) - func(x0)) / h\n",
    "    return dy"
   ]
  },
  {
   "cell_type": "code",
   "execution_count": 6,
   "metadata": {},
   "outputs": [],
   "source": [
    "dy1 = df_numerical1(f, 0.1, [0, 1, 2])"
   ]
  },
  {
   "cell_type": "code",
   "execution_count": 7,
   "metadata": {},
   "outputs": [
    {
     "name": "stdout",
     "output_type": "stream",
     "text": [
      "[0.05 1.05 2.05]\n"
     ]
    }
   ],
   "source": [
    "print(dy1)"
   ]
  },
  {
   "cell_type": "code",
   "execution_count": 8,
   "metadata": {},
   "outputs": [],
   "source": [
    "dy1 = df_numerical1(f, 0.0001, [0, 1, 2])"
   ]
  },
  {
   "cell_type": "code",
   "execution_count": 9,
   "metadata": {},
   "outputs": [
    {
     "name": "stdout",
     "output_type": "stream",
     "text": [
      "[4.99999997e-05 1.00005000e+00 2.00005000e+00]\n"
     ]
    }
   ],
   "source": [
    "print(dy1)"
   ]
  },
  {
   "cell_type": "markdown",
   "metadata": {},
   "source": [
    "## Another way to compute numerically"
   ]
  },
  {
   "cell_type": "code",
   "execution_count": 10,
   "metadata": {},
   "outputs": [],
   "source": [
    "def df_numerical2(func, h, x0):\n",
    "    # func: function name;\n",
    "    # h:\n",
    "    # x0: \n",
    "    # dy: output\n",
    "    x0 = np.array(x0)\n",
    "    dy = np.empty(x0.shape)\n",
    "    for n in range(x0.size):\n",
    "        dx = np.zeros(x0.shape)\n",
    "        dx[n] = h\n",
    "        dy[n] = (func(x0 + dx) - func(x0 - dx)) / (2 * h)\n",
    "    return dy    "
   ]
  },
  {
   "cell_type": "code",
   "execution_count": 11,
   "metadata": {},
   "outputs": [
    {
     "name": "stdout",
     "output_type": "stream",
     "text": [
      "[0. 1. 2.]\n"
     ]
    }
   ],
   "source": [
    "dy2 = df_numerical2(f, 0.1, [0, 1, 2])\n",
    "print(dy2)"
   ]
  },
  {
   "cell_type": "code",
   "execution_count": 12,
   "metadata": {},
   "outputs": [],
   "source": [
    "def grad_f(x0):\n",
    "    # x0:\n",
    "    # dy:\n",
    "    x0 = np.array(x0)\n",
    "    dy = x0\n",
    "    return dy"
   ]
  },
  {
   "cell_type": "code",
   "execution_count": 13,
   "metadata": {},
   "outputs": [],
   "source": [
    "dy_grad = grad_f([0, 1, 2])"
   ]
  },
  {
   "cell_type": "code",
   "execution_count": 14,
   "metadata": {},
   "outputs": [
    {
     "name": "stdout",
     "output_type": "stream",
     "text": [
      "[0 1 2]\n"
     ]
    }
   ],
   "source": [
    "print(dy_grad)"
   ]
  },
  {
   "cell_type": "code",
   "execution_count": 15,
   "metadata": {},
   "outputs": [],
   "source": [
    "import time"
   ]
  },
  {
   "cell_type": "code",
   "execution_count": 16,
   "metadata": {},
   "outputs": [
    {
     "name": "stdout",
     "output_type": "stream",
     "text": [
      "[36  6 73 54 56 86 66 82 63 76 67 47 81 28 83 64 11 17 48 88  3 55  5 68\n",
      " 52 51 14 53 43 49  5 36 61 36  8 20 39 92 59 53 20 77 69 57 47 77 64 50\n",
      " 53 35 47 71 95 74 25 70 66 25  7 82 27 75 58 46 35 12 18 53 72 37 23 68\n",
      "  9 73 95  5 87 80 13 61 26 83 51 67 74 54 28 32 74 66 83 97 71 36 78 41\n",
      " 57 21 97 45 83 18 86 61 31 58 10 43 55 31 90 24 84 64 25 72 20 45 83 79\n",
      "  8 50 89 37 94  8 69 25 79  2 23 76 55 76 32 59 28 19 96 73 27 45 68 18\n",
      "  3 92 99 93 82 46 17  5 98 38 91 73 59 64 32 54 12 60 31  9 52 21  1  9\n",
      " 12 29 48 84 42 24 48 33 92 36 61 87 33 37 86 31 59 83 32 40 61  3 97 37\n",
      " 87 40 66  8 57 14 22 38 51 31 85 43 52 73 55 45 28 68  2 44 98 67 51 22\n",
      " 93 48 80 60 55 28  4 98  1 32 90 33 69  2 57 24 90 54 89 67 87 11 91 28\n",
      " 61 29 29 22 28  7 41 62 53  8 87  2 73 27 64 16 95 56 87 29 59  2 19 93\n",
      " 69  1 78 14 45 96 85 78  0 45 29 85 36  2 19 43 70 67 39 25 79 44 79 26\n",
      " 13 63  8  8  9 79 69 48 91 41 63 29  5 90 24 44 20 80  2 97 10 49 17 40\n",
      " 24 25 23 29 96  2 33 20 50 23  7  6 17 16 53 51 48 70 47 81 30  5 47 92\n",
      " 88 75  0 90 15 48 91 31 64 76 55 25 38 95 54 72 22 88 32 81  7  0  9 75\n",
      "  7 64 94 55 92 21 11  0 35  3 86 56 30 19  9 82  7 97 35 47 91 55  5 21\n",
      " 15 51 69 67 33 34 64 57 73 81 46 40 22 19 82 80]\n"
     ]
    }
   ],
   "source": [
    "N = 400\n",
    "T = 100\n",
    "x0 = np.random.randint(100, size=400)\n",
    "print(x0)"
   ]
  },
  {
   "cell_type": "code",
   "execution_count": 17,
   "metadata": {},
   "outputs": [
    {
     "name": "stdout",
     "output_type": "stream",
     "text": [
      "1.2567002773284912\n"
     ]
    }
   ],
   "source": [
    "timein = time.time()\n",
    "for t in range(T):\n",
    "    dy1 = df_numerical1(f, 0.001, x0)\n",
    "timeout = time.time()\n",
    "time1 = timeout - timein\n",
    "print(time1)"
   ]
  },
  {
   "cell_type": "code",
   "execution_count": 18,
   "metadata": {},
   "outputs": [
    {
     "name": "stdout",
     "output_type": "stream",
     "text": [
      "1.5223445892333984\n"
     ]
    }
   ],
   "source": [
    "timein = time.time()\n",
    "for t in range(T):\n",
    "    dy2 = df_numerical2(f, 0.001, x0)\n",
    "timeout = time.time()\n",
    "time2 = timeout - timein\n",
    "print(time2)"
   ]
  },
  {
   "cell_type": "code",
   "execution_count": 19,
   "metadata": {},
   "outputs": [
    {
     "name": "stdout",
     "output_type": "stream",
     "text": [
      "0.004777669906616211\n"
     ]
    }
   ],
   "source": [
    "timein = time.time()\n",
    "for t in range(T):\n",
    "    dy = grad_f(x0)\n",
    "timeout = time.time()\n",
    "time = timeout - timein\n",
    "print(time)"
   ]
  },
  {
   "cell_type": "code",
   "execution_count": 20,
   "metadata": {},
   "outputs": [
    {
     "name": "stdout",
     "output_type": "stream",
     "text": [
      "263.0362293527621\n"
     ]
    }
   ],
   "source": [
    "compute_rate1 = time1 / time\n",
    "print(compute_rate1)"
   ]
  },
  {
   "cell_type": "code",
   "execution_count": 21,
   "metadata": {},
   "outputs": [
    {
     "name": "stdout",
     "output_type": "stream",
     "text": [
      "318.6374569589301\n"
     ]
    }
   ],
   "source": [
    "compute_rate2 = time2 / time\n",
    "print(compute_rate2)"
   ]
  },
  {
   "cell_type": "code",
   "execution_count": 25,
   "metadata": {},
   "outputs": [],
   "source": [
    "def compute_rate_by_dimension():\n",
    "    import time\n",
    "    compute_rate1 = []\n",
    "    compute_rate2 = []\n",
    "    for n in range(100, 10001, 100):\n",
    "        x0 = np.random.randint(n, size=n)\n",
    "        time_in = time.time()\n",
    "        for t in range(100):\n",
    "            dy1 = df_numerical1(f, 0.001, x0)\n",
    "        time_mid1 = time.time()\n",
    "        for t in range(100):\n",
    "            dy2 = df_numerical2(f, 0.001, x0)\n",
    "        time_mid2 = time.time()\n",
    "        for t in range(100):\n",
    "            dy = grad_f(x0)\n",
    "        time_out = time.time()\n",
    "    time1 = time_mid1 - time_in\n",
    "    time2 = time_mid2 - time_mid1\n",
    "    time_grad = time_out - time_mid2\n",
    "    compute_rate1.append(time1 / time_grad)\n",
    "    compute_rate2.append(time2 / time_grad)\n",
    "    return compute_rate1. compute_rate2"
   ]
  },
  {
   "cell_type": "code",
   "execution_count": null,
   "metadata": {},
   "outputs": [],
   "source": [
    "compute_r1, compute_r2 = compute_rate_by_dimension()"
   ]
  },
  {
   "cell_type": "code",
   "execution_count": null,
   "metadata": {},
   "outputs": [],
   "source": []
  }
 ],
 "metadata": {
  "kernelspec": {
   "display_name": "Python 3",
   "language": "python",
   "name": "python3"
  },
  "language_info": {
   "codemirror_mode": {
    "name": "ipython",
    "version": 3
   },
   "file_extension": ".py",
   "mimetype": "text/x-python",
   "name": "python",
   "nbconvert_exporter": "python",
   "pygments_lexer": "ipython3",
   "version": "3.6.5"
  }
 },
 "nbformat": 4,
 "nbformat_minor": 2
}
