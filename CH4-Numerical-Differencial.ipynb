{
 "cells": [
  {
   "cell_type": "markdown",
   "metadata": {},
   "source": [
    "# This notebook is used to implement numerical differenciation"
   ]
  },
  {
   "cell_type": "code",
   "execution_count": 2,
   "metadata": {},
   "outputs": [],
   "source": [
    "import numpy as np"
   ]
  },
  {
   "cell_type": "code",
   "execution_count": 3,
   "metadata": {},
   "outputs": [],
   "source": [
    "def f(x):\n",
    "    # x: ndarray obj\n",
    "    # y is a scaler, and is the output.\n",
    "    x = np.array(x)\n",
    "    y = np.sum(x ** 2) / 2\n",
    "    return y"
   ]
  },
  {
   "cell_type": "markdown",
   "metadata": {},
   "source": [
    "In this notebook, we are going to compute the numerical differencation of the functon $f(x) = 0.5\\cdot(x^2_1 + x^2_2 + x^2_3)$"
   ]
  },
  {
   "cell_type": "code",
   "execution_count": 4,
   "metadata": {},
   "outputs": [],
   "source": [
    "x = range(3)"
   ]
  },
  {
   "cell_type": "code",
   "execution_count": 5,
   "metadata": {
    "scrolled": true
   },
   "outputs": [
    {
     "name": "stdout",
     "output_type": "stream",
     "text": [
      "2.5\n"
     ]
    }
   ],
   "source": [
    "print(f(x))"
   ]
  },
  {
   "cell_type": "markdown",
   "metadata": {},
   "source": [
    "## Computer numerically"
   ]
  },
  {
   "cell_type": "code",
   "execution_count": 10,
   "metadata": {},
   "outputs": [],
   "source": [
    "def df_numerical1(func, h, x0):\n",
    "    # func: function name;\n",
    "    # val_num: number of inputs of func;\n",
    "    # h;\n",
    "    # x0: 1-d ndarray obj\n",
    "    # dy: gradient, 1-dim ndarray obj;\n",
    "    x0 = np.array(x0)\n",
    "    dy = np.zeros(x0.shape)\n",
    "    for n in range(x0.size):\n",
    "        # If I use x = np.copy, entry of \n",
    "        dx = np.zeros(x0.shape)\n",
    "        dx[n] += h\n",
    "        x = x0 + dx\n",
    "        print('x={}, x0={}'.format(x, x0))\n",
    "        dy[n] = (func(x) - func(x0)) / h\n",
    "    return dy"
   ]
  },
  {
   "cell_type": "code",
   "execution_count": 11,
   "metadata": {},
   "outputs": [
    {
     "name": "stdout",
     "output_type": "stream",
     "text": [
      "x=[0.1 1.  2. ], x0=[0 1 2]\n",
      "x=[0.  1.1 2. ], x0=[0 1 2]\n",
      "x=[0.  1.  2.1], x0=[0 1 2]\n"
     ]
    }
   ],
   "source": [
    "dy = df_numerical1(f, 0.1, [0, 1, 2])"
   ]
  },
  {
   "cell_type": "code",
   "execution_count": 9,
   "metadata": {},
   "outputs": [
    {
     "name": "stdout",
     "output_type": "stream",
     "text": [
      "[0.05 1.05 2.05]\n"
     ]
    }
   ],
   "source": [
    "print(dy)"
   ]
  },
  {
   "cell_type": "code",
   "execution_count": 45,
   "metadata": {},
   "outputs": [],
   "source": [
    "dy = df_numerical1(f, 3, 0.0001, [0, 1, 2])"
   ]
  },
  {
   "cell_type": "code",
   "execution_count": 46,
   "metadata": {},
   "outputs": [
    {
     "name": "stdout",
     "output_type": "stream",
     "text": [
      "[4.99999997e-05 1.00005000e+00 2.00005000e+00]\n"
     ]
    }
   ],
   "source": [
    "print(dy)"
   ]
  },
  {
   "cell_type": "code",
   "execution_count": 48,
   "metadata": {},
   "outputs": [],
   "source": [
    "def grad_f(x0):\n",
    "    # x0:\n",
    "    # dy:\n",
    "    x0 = np.array(x0)\n",
    "    dy = np.empty(x0.shape)\n",
    "    dy = 2 * x0\n",
    "    return dy"
   ]
  },
  {
   "cell_type": "code",
   "execution_count": 50,
   "metadata": {},
   "outputs": [],
   "source": [
    "dy2 = grad_f([0, 1, 2])"
   ]
  },
  {
   "cell_type": "code",
   "execution_count": 51,
   "metadata": {},
   "outputs": [
    {
     "name": "stdout",
     "output_type": "stream",
     "text": [
      "[0. 2. 4.]\n"
     ]
    }
   ],
   "source": [
    "print(dy2)"
   ]
  },
  {
   "cell_type": "code",
   "execution_count": null,
   "metadata": {},
   "outputs": [],
   "source": []
  }
 ],
 "metadata": {
  "kernelspec": {
   "display_name": "Python 3",
   "language": "python",
   "name": "python3"
  },
  "language_info": {
   "codemirror_mode": {
    "name": "ipython",
    "version": 3
   },
   "file_extension": ".py",
   "mimetype": "text/x-python",
   "name": "python",
   "nbconvert_exporter": "python",
   "pygments_lexer": "ipython3",
   "version": "3.6.5"
  }
 },
 "nbformat": 4,
 "nbformat_minor": 2
}
