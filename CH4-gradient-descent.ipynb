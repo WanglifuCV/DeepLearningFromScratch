{
 "cells": [
  {
   "cell_type": "markdown",
   "metadata": {},
   "source": [
    "# This notebook is used to implement gradient"
   ]
  },
  {
   "cell_type": "code",
   "execution_count": 1,
   "metadata": {},
   "outputs": [],
   "source": [
    "import numpy as np"
   ]
  },
  {
   "cell_type": "code",
   "execution_count": 2,
   "metadata": {},
   "outputs": [],
   "source": [
    "def f(x):\n",
    "    # x: ndarray obj\n",
    "    # y is a scaler, and is the output.\n",
    "    x = np.array(x)\n",
    "    y = np.sum(x ** 2) / 2\n",
    "    return y"
   ]
  },
  {
   "cell_type": "code",
   "execution_count": 3,
   "metadata": {},
   "outputs": [],
   "source": [
    "def df_numerical2(func, h, x0):\n",
    "    # func: function name;\n",
    "    # h:\n",
    "    # x0: \n",
    "    # dy: output\n",
    "    x0 = np.array(x0)\n",
    "    dy = np.empty(x0.shape)\n",
    "    for n in range(x0.size):\n",
    "        dx = np.zeros(x0.shape)\n",
    "        dx[n] = h\n",
    "        dy[n] = (func(x0 + dx) - func(x0 - dx)) / (2 * h)\n",
    "    return dy    "
   ]
  },
  {
   "cell_type": "code",
   "execution_count": 4,
   "metadata": {},
   "outputs": [],
   "source": [
    "def grad_f(x0):\n",
    "    # x0:\n",
    "    # dy:\n",
    "    x0 = np.array(x0)\n",
    "    dy = x0\n",
    "    return dy"
   ]
  },
  {
   "cell_type": "code",
   "execution_count": 5,
   "metadata": {},
   "outputs": [],
   "source": [
    "def gradient_descent(func, init_x0, lr = 0.01, step_max = 100):\n",
    "    x = np.array(init_x0)\n",
    "    for n in range(step_max):\n",
    "        dy = df_numerical2(func, 0.001, x)\n",
    "        x -= lr * dy\n",
    "    return x"
   ]
  },
  {
   "cell_type": "code",
   "execution_count": 23,
   "metadata": {},
   "outputs": [
    {
     "name": "stdout",
     "output_type": "stream",
     "text": [
      "[50. 22. 19. 66. 48. 49. 27. 58. 73. 62. 44. 89. 24. 57. 62. 20.  0. 45.\n",
      " 39. 21. 69. 78. 51. 37. 21. 11. 20. 75. 95. 34. 26. 27. 74. 57. 99. 25.\n",
      " 95. 14. 67. 32. 35. 63. 59. 72.  9. 64. 23. 94. 48. 31.]\n"
     ]
    }
   ],
   "source": [
    "x0 = np.random.randint(100, size=50).astype(np.float64)\n",
    "print(x0)"
   ]
  },
  {
   "cell_type": "code",
   "execution_count": 24,
   "metadata": {},
   "outputs": [
    {
     "name": "stdout",
     "output_type": "stream",
     "text": [
      "[0.00215856 0.00094977 0.00082025 0.0028493  0.00207222 0.00211539\n",
      " 0.00116562 0.00250393 0.0031515  0.00267662 0.00189953 0.00384224\n",
      " 0.00103611 0.00246076 0.00267662 0.00086342 0.         0.00194271\n",
      " 0.00168368 0.0009066  0.00297882 0.00336736 0.00220173 0.00159734\n",
      " 0.0009066  0.00047488 0.00086342 0.00323784 0.00410127 0.00146782\n",
      " 0.00112245 0.00116562 0.00319467 0.00246076 0.00427395 0.00107928\n",
      " 0.00410127 0.0006044  0.00289247 0.00138148 0.00151099 0.00271979\n",
      " 0.0025471  0.00310833 0.00038854 0.00276296 0.00099294 0.0040581\n",
      " 0.00207222 0.00133831]\n"
     ]
    }
   ],
   "source": [
    "x = gradient_descent(f, x0, step_max=1000)\n",
    "print(x)"
   ]
  },
  {
   "cell_type": "code",
   "execution_count": null,
   "metadata": {},
   "outputs": [],
   "source": []
  }
 ],
 "metadata": {
  "kernelspec": {
   "display_name": "Python 3",
   "language": "python",
   "name": "python3"
  },
  "language_info": {
   "codemirror_mode": {
    "name": "ipython",
    "version": 3
   },
   "file_extension": ".py",
   "mimetype": "text/x-python",
   "name": "python",
   "nbconvert_exporter": "python",
   "pygments_lexer": "ipython3",
   "version": "3.6.5"
  }
 },
 "nbformat": 4,
 "nbformat_minor": 2
}
