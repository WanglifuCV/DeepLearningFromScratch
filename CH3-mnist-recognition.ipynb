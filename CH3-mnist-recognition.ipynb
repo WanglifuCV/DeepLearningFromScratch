{
 "cells": [
  {
   "cell_type": "markdown",
   "metadata": {},
   "source": [
    "# This notebook is used to implement mnist dataset recognation."
   ]
  },
  {
   "cell_type": "code",
   "execution_count": 1,
   "metadata": {},
   "outputs": [],
   "source": [
    "import sys, os\n",
    "sys.path.append(os.pardir)"
   ]
  },
  {
   "cell_type": "code",
   "execution_count": 2,
   "metadata": {},
   "outputs": [],
   "source": [
    "from mnist import MNIST"
   ]
  },
  {
   "cell_type": "code",
   "execution_count": 3,
   "metadata": {},
   "outputs": [],
   "source": [
    "import numpy as np"
   ]
  },
  {
   "cell_type": "code",
   "execution_count": 4,
   "metadata": {},
   "outputs": [],
   "source": [
    "import matplotlib.pyplot as plt\n",
    "def img_show(image, label):\n",
    "    plt.imshow(image, cmap='gray')\n",
    "    plt.title('Label: {}'.format(label))\n",
    "    plt.show()"
   ]
  },
  {
   "cell_type": "code",
   "execution_count": 5,
   "metadata": {},
   "outputs": [],
   "source": [
    "def get_data():\n",
    "    mndata = MNIST(os.getcwd() + '\\dataset')\n",
    "    images, labels = mndata.load_testing()\n",
    "    images = np.array(images)\n",
    "    labels = np.array(labels)\n",
    "    sample_idx = np.random.randint(10001)\n",
    "    image = images[sample_idx]\n",
    "    label = labels[sample_idx]\n",
    "    img_show(image.reshape((28, 28)), label)\n",
    "    return image, label"
   ]
  },
  {
   "cell_type": "code",
   "execution_count": 6,
   "metadata": {},
   "outputs": [],
   "source": [
    "import pickle\n",
    "def init_network():\n",
    "    with open(os.path.join(os.getcwd(), 'networks', 'pretrain_mnist_weight.pkl'), 'rb') as f:\n",
    "        network = pickle.load(f)        \n",
    "    return network"
   ]
  },
  {
   "cell_type": "code",
   "execution_count": 7,
   "metadata": {},
   "outputs": [],
   "source": [
    "def sigmoid(z):\n",
    "    \"\"\"This function used to implement sigmoid function\n",
    "    Input: x, an array_like object;\n",
    "    Output: y, output.\"\"\"\n",
    "    y = 1 / (1 + np.exp(-z))\n",
    "    return y"
   ]
  },
  {
   "cell_type": "code",
   "execution_count": 8,
   "metadata": {},
   "outputs": [],
   "source": [
    "def softmax(x):\n",
    "    c = np.max(x)\n",
    "    y = np.exp(x - c) / np.sum(np.exp(x-c))\n",
    "    return y"
   ]
  },
  {
   "cell_type": "code",
   "execution_count": 9,
   "metadata": {},
   "outputs": [],
   "source": [
    "def predict(network, x):\n",
    "    W1, W2, W3 = network['W1'], network['W2'], network['W3']\n",
    "    b1, b2, b3 = network['b1'], network['b2'], network['b3']\n",
    "    z1 = np.dot(x, W1) + b1\n",
    "    a1 = sigmoid(z1)\n",
    "    z2 = np.dot(a1, W2) + b2\n",
    "    a2 = sigmoid(z2)\n",
    "    z3 = np.dot(a2, W3) + b3\n",
    "    y = softmax(z3)\n",
    "    return y"
   ]
  },
  {
   "cell_type": "code",
   "execution_count": 10,
   "metadata": {},
   "outputs": [
    {
     "data": {
      "image/png": "[encoded data removed]",
      "text/plain": [
       "<Figure size 432x288 with 1 Axes>"
      ]
     },
     "metadata": {},
     "output_type": "display_data"
    }
   ],
   "source": [
    "image, label = get_data()"
   ]
  },
  {
   "cell_type": "code",
   "execution_count": 11,
   "metadata": {},
   "outputs": [
    {
     "name": "stdout",
     "output_type": "stream",
     "text": [
      "dict_keys(['b2', 'W1', 'b1', 'W2', 'W3', 'b3'])\n",
      "(784, 50)\n",
      "(50, 100)\n",
      "(100, 10)\n",
      "(50,)\n",
      "(100,)\n",
      "(10,)\n"
     ]
    }
   ],
   "source": [
    "network = init_network()\n",
    "print(network.keys())\n",
    "print(network['W1'].shape)\n",
    "print(network['W2'].shape)\n",
    "print(network['W3'].shape)\n",
    "print(network['b1'].shape)\n",
    "print(network['b2'].shape)\n",
    "print(network['b3'].shape)"
   ]
  },
  {
   "cell_type": "code",
   "execution_count": 12,
   "metadata": {},
   "outputs": [
    {
     "name": "stdout",
     "output_type": "stream",
     "text": [
      "[1.89503238e-07 3.15429651e-05 5.56737880e-04 8.36541271e-05\n",
      " 2.06361038e-03 1.59233202e-04 9.29383755e-06 2.51667205e-06\n",
      " 9.96019389e-01 1.07383264e-03]\n"
     ]
    }
   ],
   "source": [
    "y = predict(network, image)\n",
    "print(y)"
   ]
  },
  {
   "cell_type": "code",
   "execution_count": 13,
   "metadata": {},
   "outputs": [
    {
     "name": "stdout",
     "output_type": "stream",
     "text": [
      "8\n"
     ]
    }
   ],
   "source": [
    "p = np.argmax(y)\n",
    "print(p)"
   ]
  },
  {
   "cell_type": "code",
   "execution_count": 14,
   "metadata": {},
   "outputs": [],
   "source": [
    "def get_data_batch():\n",
    "    mndata = MNIST(os.getcwd() + '\\dataset')\n",
    "    images, labels = mndata.load_testing()\n",
    "    images = np.array(images)\n",
    "    labels = np.array(labels)\n",
    "    return images, labels"
   ]
  },
  {
   "cell_type": "code",
   "execution_count": 15,
   "metadata": {},
   "outputs": [],
   "source": [
    "images, labels = get_data_batch()"
   ]
  },
  {
   "cell_type": "code",
   "execution_count": 16,
   "metadata": {},
   "outputs": [],
   "source": [
    "y = predict(network, images)"
   ]
  },
  {
   "cell_type": "code",
   "execution_count": 17,
   "metadata": {},
   "outputs": [
    {
     "name": "stdout",
     "output_type": "stream",
     "text": [
      "[[1.82347852e-09 1.94469072e-10 7.86149971e-08 ... 4.24919211e-04\n",
      "  1.61884012e-10 2.25741576e-07]\n",
      " [8.70744431e-09 2.76972120e-08 2.38235695e-05 ... 6.43935368e-12\n",
      "  6.91774422e-09 9.98816313e-14]\n",
      " [5.52419326e-15 3.98711615e-04 5.17405342e-08 ... 1.23152805e-09\n",
      "  4.58970035e-08 1.44654035e-10]\n",
      " ...\n",
      " [1.62971126e-12 1.69919668e-10 5.68549880e-10 ... 2.06216441e-09\n",
      "  3.19356170e-08 2.02176100e-07]\n",
      " [1.85670563e-09 6.52772623e-10 2.17620865e-10 ... 5.72707334e-11\n",
      "  1.69933369e-06 4.63467827e-10]\n",
      " [8.43241988e-09 8.20658815e-11 5.07699174e-08 ... 1.50534420e-11\n",
      "  1.16854605e-10 4.10430225e-11]]\n"
     ]
    }
   ],
   "source": [
    "print(y)"
   ]
  },
  {
   "cell_type": "code",
   "execution_count": 18,
   "metadata": {},
   "outputs": [
    {
     "name": "stdout",
     "output_type": "stream",
     "text": [
      "[7 2 1 ... 4 8 6]\n",
      "(10000,)\n"
     ]
    }
   ],
   "source": [
    "p = np.argmax(y, axis=1)\n",
    "print(p)\n",
    "print(p.shape)"
   ]
  },
  {
   "cell_type": "code",
   "execution_count": 19,
   "metadata": {},
   "outputs": [
    {
     "name": "stdout",
     "output_type": "stream",
     "text": [
      "0.9207\n"
     ]
    }
   ],
   "source": [
    "accuracy_cnt = np.sum((p == labels).astype(np.float)) / labels.size\n",
    "print(accuracy_cnt)"
   ]
  }
 ],
 "metadata": {
  "kernelspec": {
   "display_name": "Python 3",
   "language": "python",
   "name": "python3"
  },
  "language_info": {
   "codemirror_mode": {
    "name": "ipython",
    "version": 3
   },
   "file_extension": ".py",
   "mimetype": "text/x-python",
   "name": "python",
   "nbconvert_exporter": "python",
   "pygments_lexer": "ipython3",
   "version": "3.6.5"
  }
 },
 "nbformat": 4,
 "nbformat_minor": 2
}
